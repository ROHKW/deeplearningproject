{
  "nbformat": 4,
  "nbformat_minor": 0,
  "metadata": {
    "colab": {
      "name": "노경우_2020268008",
      "provenance": [],
      "collapsed_sections": [],
      "authorship_tag": "ABX9TyP8rxAGvSY+HX/Zb6JaxeUA",
      "include_colab_link": true
    },
    "kernelspec": {
      "name": "python3",
      "display_name": "Python 3"
    }
  },
  "cells": [
    {
      "cell_type": "markdown",
      "metadata": {
        "id": "view-in-github",
        "colab_type": "text"
      },
      "source": [
        "<a href=\"https://colab.research.google.com/github/ROHKW/deeplearningproject/blob/master/%EB%85%B8%EA%B2%BD%EC%9A%B0_2020268008.ipynb\" target=\"_parent\"><img src=\"https://colab.research.google.com/assets/colab-badge.svg\" alt=\"Open In Colab\"/></a>"
      ]
    },
    {
      "cell_type": "markdown",
      "metadata": {
        "id": "mJpmBkDPcq6m",
        "colab_type": "text"
      },
      "source": [
        "자료구조와 이해 미션 제출 \n",
        "09.15. 2020 경영정보학과 노경우"
      ]
    },
    {
      "cell_type": "markdown",
      "metadata": {
        "id": "-hGB1jtEc482",
        "colab_type": "text"
      },
      "source": [
        " 미션 1.1 구구단 7단 for문으로 출력하기"
      ]
    },
    {
      "cell_type": "code",
      "metadata": {
        "id": "MYgpVN_59FeL",
        "colab_type": "code",
        "colab": {
          "base_uri": "https://localhost:8080/",
          "height": 171
        },
        "outputId": "a623b372-3ef7-4f2a-bf5c-e9472a14f6ec"
      },
      "source": [
        "x = 7\n",
        "y = 1\n",
        "for y in range(1,10):\n",
        "    print(x, \"X\", y, \"=\", x*y)"
      ],
      "execution_count": 3,
      "outputs": [
        {
          "output_type": "stream",
          "text": [
            "7 X 1 = 7\n",
            "7 X 2 = 14\n",
            "7 X 3 = 21\n",
            "7 X 4 = 28\n",
            "7 X 5 = 35\n",
            "7 X 6 = 42\n",
            "7 X 7 = 49\n",
            "7 X 8 = 56\n",
            "7 X 9 = 63\n"
          ],
          "name": "stdout"
        }
      ]
    },
    {
      "cell_type": "markdown",
      "metadata": {
        "id": "z_Bmiqo29Ehs",
        "colab_type": "text"
      },
      "source": [
        " 미션 1-2 : 위 문제를 while 문을 이용하여 다시 구현하라."
      ]
    },
    {
      "cell_type": "code",
      "metadata": {
        "id": "-ZYG-B_-crni",
        "colab_type": "code",
        "colab": {
          "base_uri": "https://localhost:8080/",
          "height": 171
        },
        "outputId": "81c9c5fd-8095-4ddd-f10e-ea6bbfec3844"
      },
      "source": [
        "i = 7\n",
        "j = 1\n",
        "while j < 10:\n",
        "    print(i, 'X', j, '=', i*j)\n",
        "    j +=1"
      ],
      "execution_count": 4,
      "outputs": [
        {
          "output_type": "stream",
          "text": [
            "7 X 1 = 7\n",
            "7 X 2 = 14\n",
            "7 X 3 = 21\n",
            "7 X 4 = 28\n",
            "7 X 5 = 35\n",
            "7 X 6 = 42\n",
            "7 X 7 = 49\n",
            "7 X 8 = 56\n",
            "7 X 9 = 63\n"
          ],
          "name": "stdout"
        }
      ]
    },
    {
      "cell_type": "markdown",
      "metadata": {
        "id": "790kgEDK9CjN",
        "colab_type": "text"
      },
      "source": [
        " 미션 1-3 : 구구단 6단을 계산 결과를 역순으로 출력하는 코드를 for문과 while 문을 이용하여 구\n",
        "현하라."
      ]
    },
    {
      "cell_type": "code",
      "metadata": {
        "id": "6GSdjiYL-CjH",
        "colab_type": "code",
        "colab": {
          "base_uri": "https://localhost:8080/",
          "height": 171
        },
        "outputId": "ed34568f-c256-4935-aa9c-5b7ecd2c7b0b"
      },
      "source": [
        "x = 7\n",
        "y = 1\n",
        "for y in range(9,0,-1):\n",
        "    print(x, \"X\", y, \"=\", x*y)"
      ],
      "execution_count": 13,
      "outputs": [
        {
          "output_type": "stream",
          "text": [
            "7 X 9 = 63\n",
            "7 X 8 = 56\n",
            "7 X 7 = 49\n",
            "7 X 6 = 42\n",
            "7 X 5 = 35\n",
            "7 X 4 = 28\n",
            "7 X 3 = 21\n",
            "7 X 2 = 14\n",
            "7 X 1 = 7\n"
          ],
          "name": "stdout"
        }
      ]
    },
    {
      "cell_type": "code",
      "metadata": {
        "id": "RMuwGPx8-8G0",
        "colab_type": "code",
        "colab": {
          "base_uri": "https://localhost:8080/",
          "height": 171
        },
        "outputId": "aabd65a5-8687-49d6-cb95-62aac5cd718d"
      },
      "source": [
        "i = 7\n",
        "j = 9\n",
        "while j >0:\n",
        "    print(i, 'X', j, '=', i*j)\n",
        "    j -=1"
      ],
      "execution_count": 17,
      "outputs": [
        {
          "output_type": "stream",
          "text": [
            "7 X 9 = 63\n",
            "7 X 8 = 56\n",
            "7 X 7 = 49\n",
            "7 X 6 = 42\n",
            "7 X 5 = 35\n",
            "7 X 4 = 28\n",
            "7 X 3 = 21\n",
            "7 X 2 = 14\n",
            "7 X 1 = 7\n"
          ],
          "name": "stdout"
        }
      ]
    },
    {
      "cell_type": "markdown",
      "metadata": {
        "id": "4aRpRYbQcomQ",
        "colab_type": "text"
      },
      "source": [
        " 미션 2 : 섭씨 온도를 화씨 온도로 변환하는 함수를 구현하라. 섭씨온도(c), 화씨온도(f)로 변환하\n",
        "는 수식이다. 화씨온도를 섭씨온도로 변환하는 함수를 구현하라. \n",
        "– 화씨온도(f) = 32 + (180/100 * 섭씨온도(c))"
      ]
    },
    {
      "cell_type": "code",
      "metadata": {
        "id": "Szmy1MdJ_fuo",
        "colab_type": "code",
        "colab": {
          "base_uri": "https://localhost:8080/",
          "height": 51
        },
        "outputId": "0b328899-26c8-4a13-b068-e2a265d3472b"
      },
      "source": [
        "def CtoF(c):\n",
        "    return 32 +(180/100*c)\n",
        "def FtoC(f):\n",
        "    return (f-32)*(100/180)\n",
        " \n",
        "print(\"C to F =\",CtoF(20))\n",
        "print(\"F to C =\", FtoC(20))"
      ],
      "execution_count": 21,
      "outputs": [
        {
          "output_type": "stream",
          "text": [
            "C to F = 68.0\n",
            "F to C = -6.666666666666667\n"
          ],
          "name": "stdout"
        }
      ]
    },
    {
      "cell_type": "markdown",
      "metadata": {
        "id": "Y9YyL7vwAu9A",
        "colab_type": "text"
      },
      "source": [
        " 미션 3-1 : LIST_A = [1, 2, 3, 4] 와 같이 리스트를 선언하고, 이 리스트의 모든 값을 역순으로 출\n",
        "력하는 코드를 구현하라. 단, 인덱스 값으로는 음수 만을 사용하라."
      ]
    },
    {
      "cell_type": "code",
      "metadata": {
        "id": "tHtlHrtlA1eb",
        "colab_type": "code",
        "colab": {
          "base_uri": "https://localhost:8080/",
          "height": 34
        },
        "outputId": "105e457e-f01b-4212-db2a-1b835ccce38a"
      },
      "source": [
        " \n",
        " \n",
        "LIST_A = [1,2,3,4]\n",
        "LIST_A.reverse()\n",
        "print(LIST_A)"
      ],
      "execution_count": 24,
      "outputs": [
        {
          "output_type": "stream",
          "text": [
            "[4, 3, 2, 1]\n"
          ],
          "name": "stdout"
        }
      ]
    },
    {
      "cell_type": "markdown",
      "metadata": {
        "id": "XwtXqCiRBlTB",
        "colab_type": "text"
      },
      "source": [
        " \n",
        "미션 3-2 : 이번에는 리스트의 모든 값을 더해 결과를 반환하는 함수를 구현하라."
      ]
    },
    {
      "cell_type": "code",
      "metadata": {
        "id": "TIDNBWsLBoS-",
        "colab_type": "code",
        "colab": {
          "base_uri": "https://localhost:8080/",
          "height": 34
        },
        "outputId": "385da015-3092-4909-aa09-5565dbe94bc3"
      },
      "source": [
        " \n",
        "LIST_A = [1,2,3,4]\n",
        " \n",
        "print(sum(LIST_A))"
      ],
      "execution_count": 25,
      "outputs": [
        {
          "output_type": "stream",
          "text": [
            "10\n"
          ],
          "name": "stdout"
        }
      ]
    },
    {
      "cell_type": "markdown",
      "metadata": {
        "id": "Z7r9d4kMB7JD",
        "colab_type": "text"
      },
      "source": [
        " 미션 4-1 : 문자열 msg = “Data Structures in Python”를 선언하고, 이 문자열을 먼저 그대로 출\n",
        "력하고, 다음으로 모두 대문자로 바꿔서 출력하고, 마지막으로 모두 소문자로 바꿔 출력하는 코드\n",
        "를 작성하"
      ]
    },
    {
      "cell_type": "code",
      "metadata": {
        "id": "Rev4F0ZyB-5d",
        "colab_type": "code",
        "colab": {
          "base_uri": "https://localhost:8080/",
          "height": 51
        },
        "outputId": "d60c4894-ba26-470d-f802-9db006d3b82b"
      },
      "source": [
        " msg = \"Data Structures in Python\"\n",
        "print(msg.upper())\n",
        "print(msg.lower())"
      ],
      "execution_count": 29,
      "outputs": [
        {
          "output_type": "stream",
          "text": [
            "DATA STRUCTURES IN PYTHON\n",
            "data structures in python\n"
          ],
          "name": "stdout"
        }
      ]
    },
    {
      "cell_type": "markdown",
      "metadata": {
        "id": "2hWIWf1lC5tQ",
        "colab_type": "text"
      },
      "source": [
        " 미션 5-1 : 어느 식당의 음식에 대한 가격 정보를 다음과 같이 딕셔너리로 표현하자. \n",
        "price = { ‘콩나물 해장국＇: 4500, ‘갈비탕’ : 9000, ‘돈까스‘ : 8000 }\n",
        "여기에 새로운 메뉴 ‘팟타이’를 7000원에 추가하고, 모든 메뉴와 가격을 출력하는 코드를 작성해\n",
        "보라. \n",
        "⚫ 미션 5-2 : 위 문제에서 모든 메뉴의 가격을 500원 내리는 코드를 작성해 보라."
      ]
    },
    {
      "cell_type": "code",
      "metadata": {
        "id": "uLtH9lhCDFsF",
        "colab_type": "code",
        "colab": {
          "base_uri": "https://localhost:8080/",
          "height": 54
        },
        "outputId": "37a3344e-fba0-4232-8eab-3d74280e01e0"
      },
      "source": [
        "price = {'콩나물 해장국': 4500, '갈비탕': 9000, '돈까스': 8000 }\n",
        "price['팟타이'] = 7000\n",
        "price"
      ],
      "execution_count": 32,
      "outputs": [
        {
          "output_type": "execute_result",
          "data": {
            "text/plain": [
              "{'갈비탕': 9000, '돈까스': 8000, '콩나물 해장국': 4500, '팟타이': 7000}"
            ]
          },
          "metadata": {
            "tags": []
          },
          "execution_count": 32
        }
      ]
    },
    {
      "cell_type": "markdown",
      "metadata": {
        "id": "0lA2rhLVEPso",
        "colab_type": "text"
      },
      "source": [
        " 미션 6-1 : 1~n 까지의 숫자를 전부 합하여 반환하는 순환적인 함수를 작성하라. \n",
        "1 + 2 + 3+ … + n\n",
        "⚫ 미션 6-2 : 문자열의 내용을 반대로 바꾸는 순환적인 함수 reverse() 를 구현하라. 예를 들어\n",
        "reverse(“ABCDE”) 는 “EDCBA”를 반환해야 한다."
      ]
    },
    {
      "cell_type": "code",
      "metadata": {
        "id": "9kxm29U2EWlp",
        "colab_type": "code",
        "colab": {
          "base_uri": "https://localhost:8080/",
          "height": 34
        },
        "outputId": "380def03-5a0e-4c0f-8c6a-7f3239431ab6"
      },
      "source": [
        " def SumAll(N):\n",
        "    a = 0\n",
        "    for n in range(1, N+1):\n",
        "        a += n\n",
        "    return a\n",
        " \n",
        "print(SumAll(199))"
      ],
      "execution_count": 34,
      "outputs": [
        {
          "output_type": "stream",
          "text": [
            "19900\n"
          ],
          "name": "stdout"
        }
      ]
    },
    {
      "cell_type": "code",
      "metadata": {
        "id": "Uza6b_I6FSwD",
        "colab_type": "code",
        "colab": {
          "base_uri": "https://localhost:8080/",
          "height": 34
        },
        "outputId": "e83bda55-6a13-4ae2-fb89-235eb5bad90a"
      },
      "source": [
        "def RevStl(L):\n",
        "    print(L[::-1])\n",
        " \n",
        "RevStl(\"abcdef\")"
      ],
      "execution_count": 38,
      "outputs": [
        {
          "output_type": "stream",
          "text": [
            "fedcba\n"
          ],
          "name": "stdout"
        }
      ]
    }
  ]
}