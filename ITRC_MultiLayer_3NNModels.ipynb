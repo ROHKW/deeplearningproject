{
  "nbformat": 4,
  "nbformat_minor": 0,
  "metadata": {
    "kernelspec": {
      "display_name": "Python 3",
      "language": "python",
      "name": "python3"
    },
    "language_info": {
      "codemirror_mode": {
        "name": "ipython",
        "version": 3
      },
      "file_extension": ".py",
      "mimetype": "text/x-python",
      "name": "python",
      "nbconvert_exporter": "python",
      "pygments_lexer": "ipython3",
      "version": "3.7.7"
    },
    "colab": {
      "name": "ITRC_MultiLayer_3NNModels_0531-EarlyStopping.ipynb",
      "provenance": [],
      "collapsed_sections": []
    }
  },
  "cells": [
    {
      "cell_type": "markdown",
      "metadata": {
        "id": "Gtj8zbNeSLQk",
        "colab_type": "text"
      },
      "source": [
        "인공지능과 기계학습 최종 작성본\n",
        "\n",
        "#제목 : 딥러닝을 활용한 전력데이터 예측실험\n",
        "\n",
        "#3조 - electronic \n",
        "\n",
        "* 조장: 황미림\n",
        "\n",
        "* 조원: 홍준호, 노경우\n",
        "\n",
        "\n",
        "* 최초 작업일 2020.05.31\n",
        "\n",
        "* 최종 수정일 2020.06.21\n",
        "\n",
        "\n",
        "* 함수구현자 표기 이외의 코드는 공동으로 제작하였습니다. \n",
        "\n",
        "\n",
        "\n"
      ]
    },
    {
      "cell_type": "code",
      "metadata": {
        "id": "0ZGCz6ZDh6bY",
        "colab_type": "code",
        "colab": {
          "base_uri": "https://localhost:8080/",
          "height": 35
        },
        "outputId": "59f7dc43-13c5-4834-c00b-23c2c5552f24"
      },
      "source": [
        "import tensorflow as tf\n",
        "print(tf.__version__)"
      ],
      "execution_count": 1,
      "outputs": [
        {
          "output_type": "stream",
          "text": [
            "2.2.0\n"
          ],
          "name": "stdout"
        }
      ]
    },
    {
      "cell_type": "code",
      "metadata": {
        "id": "HdIbmgK6h6bd",
        "colab_type": "code",
        "colab": {
          "base_uri": "https://localhost:8080/",
          "height": 35
        },
        "outputId": "93c0633d-c1b1-43c8-deec-832e98e5bce9"
      },
      "source": [
        "from tensorflow import keras\n",
        "print(keras.__version__)"
      ],
      "execution_count": 2,
      "outputs": [
        {
          "output_type": "stream",
          "text": [
            "2.3.0-tf\n"
          ],
          "name": "stdout"
        }
      ]
    },
    {
      "cell_type": "code",
      "metadata": {
        "id": "u_GywSyeh6bg",
        "colab_type": "code",
        "colab": {}
      },
      "source": [
        "from tensorflow.python.client import device_lib\n",
        "print(device_lib.list_local_devices())"
      ],
      "execution_count": null,
      "outputs": []
    },
    {
      "cell_type": "code",
      "metadata": {
        "id": "ekKq-z_3h6bj",
        "colab_type": "code",
        "colab": {}
      },
      "source": [
        "import pandas as pd\n",
        "import numpy as np\n",
        "import sklearn\n",
        "import matplotlib\n",
        "import seaborn as sns\n",
        "from pandas import read_csv\n",
        "from pandas import DataFrame\n",
        "from pandas import concat\n",
        "from datetime import datetime\n",
        "from tensorflow.keras.models import Sequential\n",
        "from tensorflow.keras.layers import LSTM\n",
        "from tensorflow.keras.layers import RNN\n",
        "from tensorflow.keras.layers import SimpleRNN\n",
        "from tensorflow.keras.layers import GRU\n",
        "from tensorflow.keras.layers import Dense\n",
        "from tensorflow.keras.layers import Dropout\n",
        "from tensorflow.keras.layers import Activation\n",
        "from tensorflow.keras.layers import TimeDistributed\n",
        "from tensorflow.keras.callbacks import EarlyStopping\n",
        "from sklearn import preprocessing\n",
        "from sklearn.metrics import mean_squared_error\n",
        "#from sklearn.preprocessing import LabelEncoder #문자열로 된 컬럼이 있을 때\n",
        "from sklearn.preprocessing import MinMaxScaler\n",
        "from matplotlib import pyplot as plt"
      ],
      "execution_count": null,
      "outputs": []
    },
    {
      "cell_type": "code",
      "metadata": {
        "id": "pdZzdEgGh6bm",
        "colab_type": "code",
        "colab": {}
      },
      "source": [
        "dataset = read_csv(\"C:/Users/ty009/문서/ITRC/ITRC_1F_GROUP_12.csv\", header=0, index_col=0)\n",
        "values = dataset.values"
      ],
      "execution_count": null,
      "outputs": []
    },
    {
      "cell_type": "code",
      "metadata": {
        "id": "USnIuywTh6bo",
        "colab_type": "code",
        "colab": {}
      },
      "source": [
        "groups = [0,1,2,3]\n",
        "i = 1\n",
        "plt.figure(figsize=(15, 12), dpi= 60, facecolor='w', edgecolor='k')\n",
        "for group in groups:\n",
        "    plt.subplot(len(groups),1,i)\n",
        "    plt.plot(values[:,group])\n",
        "    plt.title(dataset.columns[group], y=0, loc='right', fontsize=15)\n",
        "    i += 1\n",
        "plt.show()"
      ],
      "execution_count": null,
      "outputs": []
    },
    {
      "cell_type": "markdown",
      "metadata": {
        "id": "ZQheTDf0h6bt",
        "colab_type": "text"
      },
      "source": [
        "<br><br>\n",
        "## 3. 다변량 예측 모델\n",
        "####  데이터 준비\n",
        "<br>\n",
        "series_to_supervised() : 시계열 데이터셋을 supervised learning 문제로 변경하기 위한 함수\n",
        "\n",
        "* data : 목록 또는 2D NumPy 배열 형식의 관측치<br>\n",
        "\n",
        "* n_in : (입력값) 지연 관찰 수로, 값은 1에서 len(data) 사잇값. 기본값은 1<br>\n",
        "\n",
        "* n_out : 출력(y)되는 관측치의 수인 것 같음. 값은 0에서 len(data)-1 사잇값. 기본값은 1. 선택 사항임<br>\n",
        "\n",
        "* dropnan : NaN 값인 행을 삭제할지 여부를 나타내는 부울 값. 기본값은 True이며, 역시 선택사항<br>\n",
        "\n",
        "* return : 지도학습을 위해 프래임 된 pandas DataFrame"
      ]
    },
    {
      "cell_type": "code",
      "metadata": {
        "id": "avXNhcDXh6bt",
        "colab_type": "code",
        "colab": {}
      },
      "source": [
        "def series_to_supervised(data, n_in=1, n_out=1, dropnan=True):\n",
        "    n_vars = 1 if type(data) is list else data.shape[1]\n",
        "    df = DataFrame(data)\n",
        "    cols, names = list(), list()\n",
        "    \n",
        "    sns.heatmap(df.isnull(), cbar=False)\n",
        "    plt.show()\n",
        "    df[3] = df[3].fillna(method = 'pad')\n",
        "    sns.heatmap(df.isnull(), cbar=False)\n",
        "    plt.show()\n",
        "    \n",
        "    ## input sequence (t-n, ... t-1)\n",
        "    for i in range(n_in, 0, -1):\n",
        "        cols.append(df.shift(i))\n",
        "        names += [('var%d(t-%d)' %(j+1, i)) for j in range(n_vars)]\n",
        "        \n",
        "    # forecast sequence (t, t+1, ... t+n)\n",
        "    for i in range(0, n_out):\n",
        "        cols.append(df.shift(-i))\n",
        "        if i == 0:\n",
        "            names += [('var%d(t)' % (j+1)) for j in range(n_vars)]\n",
        "        else:\n",
        "            names += [('var%d(t+%d)' % (j+1, i)) for j in range(n_vars)]\n",
        "            \n",
        "    # put it all together\n",
        "    agg = concat(cols, axis=1)\n",
        "    agg.columns = names\n",
        "    \n",
        "    # drop rows with NaN values\n",
        "    if dropnan:\n",
        "        agg.dropna(inplace=True)\n",
        "        \n",
        "    return agg"
      ],
      "execution_count": null,
      "outputs": []
    },
    {
      "cell_type": "code",
      "metadata": {
        "id": "yt7pk43qh6bv",
        "colab_type": "code",
        "colab": {}
      },
      "source": [
        "# 코드 구현자: 홍준호 , 노경우 \n",
        "reframed = series_to_supervised(values, 5, 1, False)\n",
        "reframed = reframed.drop(reframed.index[0:5])\n",
        "for i in range(5):\n",
        "    reframed = reframed.drop(reframed.columns[0+i:3+i], axis='columns')  #여기 숫자는 고정!\n",
        "print(reframed.head())\n",
        "print(\"values \", len(values), \"reframed \", len(reframed))"
      ],
      "execution_count": null,
      "outputs": []
    },
    {
      "cell_type": "markdown",
      "metadata": {
        "id": "DHuIPPMeh6bx",
        "colab_type": "text"
      },
      "source": [
        "<br>데이터를 모두 float(소수) 형식으로 변경하여 0에서 1 사이 값으로 만들고 위에서 만든 함수를 적용시킴<br><br>\n",
        "\n",
        "문자열로 구성된 컬럼이 있어 예측을 위해 숫자 형식으로 변환할 필요가 있을 때 아래의 코드의 처음에 다음을 추가한다.<br>\n",
        "encoder = LabelEncoder() <br>\n",
        "values[:,1] = encoder.fit_transform(values[:,1])<br>\n",
        "\n",
        "* 위의 코드와 위치 변경됨"
      ]
    },
    {
      "cell_type": "code",
      "metadata": {
        "id": "XX2oM7JAh6by",
        "colab_type": "code",
        "colab": {}
      },
      "source": [
        "# ensure all data is float\n",
        "reframed = reframed.astype('float32')\n",
        "# normalize features\n",
        "scaler = MinMaxScaler(feature_range=(0, 1))\n",
        "scaled = scaler.fit_transform(reframed)"
      ],
      "execution_count": null,
      "outputs": []
    },
    {
      "cell_type": "code",
      "metadata": {
        "id": "Lqywx2gXh6bz",
        "colab_type": "code",
        "colab": {}
      },
      "source": [
        "print(scaled)"
      ],
      "execution_count": null,
      "outputs": []
    },
    {
      "cell_type": "markdown",
      "metadata": {
        "id": "6GBR9_-mh6b3",
        "colab_type": "text"
      },
      "source": [
        "<br><br>\n",
        "#### 모델 정의 및 맞춤\n",
        "\n",
        "준비된 dataset을 train data와 validation data, test data로 분할함<br>\n",
        "데이터 정제 과정에서 12시~13시를 제거했으므로 하루를 23시로 계산함"
      ]
    },
    {
      "cell_type": "code",
      "metadata": {
        "id": "uI5Q6SDuh6b3",
        "colab_type": "code",
        "colab": {}
      },
      "source": [
        "values = scaled\n",
        "n_train = 14 * 23 * 60\n",
        "n_validation = n_train + 7 * 23 * 60\n",
        "train = values[:n_train, :]\n",
        "validation = values[n_train:n_validation, :]\n",
        "test = values[n_validation:, :]"
      ],
      "execution_count": null,
      "outputs": []
    },
    {
      "cell_type": "markdown",
      "metadata": {
        "id": "v_jmecZSh6b5",
        "colab_type": "text"
      },
      "source": [
        "train data와 test data의 입력값(X)과 출력값(Y)을 설정함<br>\n",
        "* var1(Active Power)은 Y에, 나머지는 모두 X에 넣음"
      ]
    },
    {
      "cell_type": "code",
      "metadata": {
        "id": "OQZodAskh6b5",
        "colab_type": "code",
        "colab": {}
      },
      "source": [
        "train_X, train_Y = train[:, :-1], train[:, -1]\n",
        "validation_X, validation_Y = validation[:, :-1], validation[:, -1]\n",
        "test_X, test_Y = test[:, :-1], test[:, -1]"
      ],
      "execution_count": null,
      "outputs": []
    },
    {
      "cell_type": "code",
      "metadata": {
        "id": "hOQj-yQIh6b7",
        "colab_type": "code",
        "colab": {}
      },
      "source": [
        "print(train_X.shape, train_Y.shape, validation_X.shape, validation_Y.shape, test_X.shape, test_Y.shape)"
      ],
      "execution_count": null,
      "outputs": []
    },
    {
      "cell_type": "markdown",
      "metadata": {
        "id": "380BgELih6b-",
        "colab_type": "text"
      },
      "source": [
        "입력 내용을 3D로 변경 [samples, timesteps, features]<br>\n",
        "\n",
        "* [samples, timesteps, features]가 층, 행, 열일 거라고 생각하고 있음<br>\n",
        "\n",
        "다음을 실행하면 train data와 validation data, test data가 인쇄된다."
      ]
    },
    {
      "cell_type": "code",
      "metadata": {
        "id": "2ED_SzDTh6b-",
        "colab_type": "code",
        "colab": {}
      },
      "source": [
        "# 함수 구현자: 홍준호 , 노경우 \n",
        "train_X = train_X.reshape(train_X.shape[0], 1, train_X.shape[1])\n",
        "validation_X = validation_X.reshape(validation_X.shape[0], 1, validation_X.shape[1])\n",
        "test_X = test_X.reshape(test_X.shape[0], 1, test_X.shape[1])\n",
        "print(train_X.shape, train_Y.shape, validation_X.shape, validation_Y.shape)\n",
        "print(\"train_X\")\n",
        "print(train_X)"
      ],
      "execution_count": null,
      "outputs": []
    },
    {
      "cell_type": "markdown",
      "metadata": {
        "id": "yD3Vn_hhh6cA",
        "colab_type": "text"
      },
      "source": [
        "모델 디자인<br>\n",
        "Active Power를 예측하기 위해 첫번째 hidden layer와 output layer에 뉴런을 정의할 것<br>\n",
        "* LSTM(): lstm 모델 생성, 입력값은 각각 timestep과 feature<br>\n",
        "* Dense() : 예측하고자 하는 target의 개수<br>     첫번째 값 : 노드의 개수(원하는 숫자로 하되, 너무 적으면 학습이 잘 되지 않으니 5 이상의 정수로 한다),<br> input_shape : 입력값의 모양. (1,)일 때는 한 개씩 여러번 해야 하기 때문에 정하지 않았다는 의미\n",
        "* compile : 모델을 어떻게 학습할지 정하는 곳\n",
        "* 연속적인 예측을 하는 것이기 때문에 loss function은 mean_squared_error, optimizer는 adam을 자주 사용한다고 함<br>\n",
        "* compile 기본 형식 : compile(optimizer, loss=None, metrics=None, loss_weights=None, sample_weight_mode=None, weighted_metrics=None, target_tensors=None) https://keras.io/ko/models/sequential/"
      ]
    },
    {
      "cell_type": "code",
      "metadata": {
        "id": "M5bBR1V2h6cA",
        "colab_type": "code",
        "colab": {}
      },
      "source": [
        "# 함수 구현자: 홍준호 , 노경우 \n",
        "\n",
        "j = 0\n",
        "slListStr = [\"SimpleRNN\", \"LSTM\", \"GRU\"]\n",
        "\n",
        "for i in [SimpleRNN, LSTM, GRU]:\n",
        "    globals()[\"%s_slModel\" %slListStr[j]] = Sequential()\n",
        "    globals()[\"%s_slModel\" %slListStr[j]].add(i(30, activation='softmax', input_shape=(train_X.shape[1], train_X.shape[2])))\n",
        "    globals()[\"%s_slModel\" %slListStr[j]].add(Dropout(0.2))\n",
        "    globals()[\"%s_slModel\" %slListStr[j]].add(Dense(30, activation='elu'))\n",
        "    globals()[\"%s_slModel\" %slListStr[j]].add(Dropout(0.2))\n",
        "    globals()[\"%s_slModel\" %slListStr[j]].add(Dense(1, activation='sigmoid'))\n",
        "    globals()[\"%s_slModel\" %slListStr[j]].compile(loss='mse', metric=['accuracy'], optimizer='adam')\n",
        "    globals()[\"%s_slModel\" %slListStr[j]].summary()\n",
        "    j += 1\n",
        "    print(\"\\n\\n\")"
      ],
      "execution_count": null,
      "outputs": []
    },
    {
      "cell_type": "code",
      "metadata": {
        "scrolled": true,
        "id": "7tai_4MXh6cD",
        "colab_type": "code",
        "colab": {}
      },
      "source": [
        "# 함수 구현자: 홍준호 , 노경우 \n",
        "\n",
        "#history = model.fit(train_X, train_Y, epochs=20, batch_size=72, verbose=2)\n",
        "j = 0\n",
        "for i in [SimpleRNN, LSTM, GRU]:\n",
        "    print(\"\\n\\nStudy %s\" %slListStr[j])\n",
        "    early_stopping = EarlyStopping(monitor='val_loss', patience=15)\n",
        "    globals()[\"%s_history\" %slListStr[j]] = globals()[\"%s_slModel\" %slListStr[j]].fit(train_X, train_Y, epochs=150, batch_size=50, validation_data=(validation_X, validation_Y), verbose=1, callbacks=[early_stopping])\n",
        "    j += 1"
      ],
      "execution_count": null,
      "outputs": []
    },
    {
      "cell_type": "markdown",
      "metadata": {
        "id": "VAT5MwcTh6cF",
        "colab_type": "text"
      },
      "source": [
        "plot 그리기"
      ]
    },
    {
      "cell_type": "code",
      "metadata": {
        "id": "9VQpSHyUh6cF",
        "colab_type": "code",
        "colab": {}
      },
      "source": [
        "# 함수 구현자: 황미림 \n",
        "\n",
        "fig, ax = plt.subplots(1, 3, figsize=(20, 5))\n",
        "\n",
        "ax[0].plot(SimpleRNN_history.history['loss'], label='train')\n",
        "ax[0].plot(SimpleRNN_history.history['val_loss'], label='validation')\n",
        "ax[0].title.set_text('1 Layer SimpleRNN')\n",
        "ax[0].legend()\n",
        "\n",
        "ax[1].plot(LSTM_history.history['loss'], label='train')\n",
        "ax[1].plot(LSTM_history.history['val_loss'], label='validation')\n",
        "ax[1].title.set_text('1 Layer LSTM')\n",
        "ax[1].legend()\n",
        "\n",
        "ax[2].plot(GRU_history.history['loss'], label='train')\n",
        "ax[2].plot(GRU_history.history['val_loss'], label='validation')\n",
        "ax[2].title.set_text('1 Layer GRU')\n",
        "ax[2].legend()\n",
        "\n",
        "plt.show()"
      ],
      "execution_count": null,
      "outputs": []
    },
    {
      "cell_type": "markdown",
      "metadata": {
        "id": "ktixfCg_h6cH",
        "colab_type": "text"
      },
      "source": [
        "<br><br>\n",
        "## 4. vaildation data 예측&정확도 측정\n",
        "#### validation 예측 생성"
      ]
    },
    {
      "cell_type": "code",
      "metadata": {
        "id": "pIxi5yRoh6cH",
        "colab_type": "code",
        "colab": {}
      },
      "source": [
        "SimpleRNN_vali_yhat = SimpleRNN_slModel.predict(validation_X)\n",
        "LSTM_vali_yhat = LSTM_slModel.predict(validation_X)\n",
        "GRU_vali_yhat = GRU_slModel.predict(validation_X)"
      ],
      "execution_count": null,
      "outputs": []
    },
    {
      "cell_type": "markdown",
      "metadata": {
        "id": "H-_Q0JBQh6cJ",
        "colab_type": "text"
      },
      "source": [
        "#### test 예측 생성"
      ]
    },
    {
      "cell_type": "code",
      "metadata": {
        "id": "Eqb-lXeqh6cK",
        "colab_type": "code",
        "colab": {}
      },
      "source": [
        "SimpleRNN_test_yhat = SimpleRNN_slModel.predict(test_X)\n",
        "LSTM_test_yhat = LSTM_slModel.predict(test_X)\n",
        "GRU_test_yhat = GRU_slModel.predict(test_X)"
      ],
      "execution_count": null,
      "outputs": []
    },
    {
      "cell_type": "code",
      "metadata": {
        "id": "LztzchBhh6cM",
        "colab_type": "code",
        "colab": {}
      },
      "source": [
        "validation_X = validation_X.reshape((validation_X.shape[0], validation_X.shape[2]))\n",
        "print(validation_X)\n",
        "test_X = test_X.reshape((test_X.shape[0], test_X.shape[2]))\n",
        "print(test_X)"
      ],
      "execution_count": null,
      "outputs": []
    },
    {
      "cell_type": "code",
      "metadata": {
        "id": "-5kt6dqVh6cP",
        "colab_type": "code",
        "colab": {}
      },
      "source": [
        "validation_y = np.array(validation_Y).reshape(validation_Y.shape[0],1)\n",
        "print(validation_y)\n",
        "test_y = np.array(test_Y).reshape(test_Y.shape[0],1)\n",
        "print(test_y)"
      ],
      "execution_count": null,
      "outputs": []
    },
    {
      "cell_type": "markdown",
      "metadata": {
        "id": "z_imnqZth6cR",
        "colab_type": "text"
      },
      "source": [
        "#### 예측값 Plot"
      ]
    },
    {
      "cell_type": "code",
      "metadata": {
        "id": "mocA_xkmh6cR",
        "colab_type": "code",
        "colab": {}
      },
      "source": [
        "# 함수 구현자: 황미림\n",
        "# 수정본 작성: 홍준호 , 노경우 \n",
        "\n",
        "fig, ax = plt.subplots(3, 2, figsize=(20, 15), dpi= 60, facecolor='w', edgecolor='k')\n",
        "\n",
        "# Simple RNN\n",
        "ax[0][0].plot(validation_y, label='origin')\n",
        "ax[0][0].plot(SimpleRNN_vali_yhat, label='predict')\n",
        "ax[0][0].title.set_text('1 Layer SimpleRNN Validation')\n",
        "ax[0][0].legend(loc='upper right')\n",
        "\n",
        "ax[0][1].plot(test_y, label='origin')\n",
        "ax[0][1].plot(SimpleRNN_test_yhat, label='predict')\n",
        "ax[0][1].title.set_text('1 Layer SimpleRNN Test')\n",
        "ax[0][1].legend(loc='upper right')\n",
        "\n",
        "\n",
        "# LSTM\n",
        "ax[1][0].plot(validation_y, label='origin')\n",
        "ax[1][0].plot(LSTM_vali_yhat, label='predict')\n",
        "ax[1][0].title.set_text('1 Layer LSTM Validation')\n",
        "ax[1][0].legend(loc='upper right')\n",
        "\n",
        "ax[1][1].plot(test_y, label='origin')\n",
        "ax[1][1].plot(LSTM_test_yhat, label='predict')\n",
        "ax[1][1].title.set_text('1 Layer LSTM Test')\n",
        "ax[1][1].legend(loc='upper right')\n",
        "\n",
        "\n",
        "# GRU\n",
        "ax[2][0].plot(validation_y, label='origin')\n",
        "ax[2][0].plot(GRU_vali_yhat, label='predict')\n",
        "ax[2][0].title.set_text('1 Layer GRU Validation')\n",
        "ax[2][0].legend(loc='upper right')\n",
        "\n",
        "ax[2][1].plot(test_y, label='origin')\n",
        "ax[2][1].plot(GRU_test_yhat, label='predict')\n",
        "ax[2][1].title.set_text('1 Layer GRU Test')\n",
        "ax[2][1].legend(loc='upper right')\n",
        "\n",
        "plt.show();"
      ],
      "execution_count": null,
      "outputs": []
    },
    {
      "cell_type": "markdown",
      "metadata": {
        "id": "4fcqDvTzh6cT",
        "colab_type": "text"
      },
      "source": [
        "#### 평가"
      ]
    },
    {
      "cell_type": "code",
      "metadata": {
        "id": "4Q_hiEwZh6cT",
        "colab_type": "code",
        "colab": {}
      },
      "source": [
        "# 함수 구현자: 홍준호 , 노경우 \n",
        "\n",
        "from sklearn.metrics import mean_squared_error, r2_score, mean_absolute_error, mean_squared_log_error\n",
        "\n",
        "for i in [\"SimpleRNN\", \"LSTM\", \"GRU\"]:\n",
        "    print(\"1 Layer %s Model Validation Evaluation\\n\" %i)\n",
        "    MAE_vail =  mean_absolute_error(validation_y, globals()[\"%s_vali_yhat\" %i])\n",
        "    MSE_vail = mean_squared_error(validation_y, globals()[\"%s_vali_yhat\" %i])\n",
        "    RMSE_vail = np.sqrt(MSE_vail)\n",
        "    MSLE_vail = mean_squared_log_error(validation_y, globals()[\"%s_vali_yhat\" %i])\n",
        "    RMSLE_vail = np.sqrt(mean_squared_log_error(validation_y, globals()[\"%s_vali_yhat\" %i]))\n",
        "    R2_vail = r2_score(validation_y, globals()[\"%s_vali_yhat\" %i])\n",
        "    MAPE_vail = np.mean(np.abs((globals()[\"%s_vali_yhat\" %i] - validation_y) / globals()[\"%s_vali_yhat\" %i])) * 100\n",
        "    \n",
        "    MAE_test =  mean_absolute_error(test_y, globals()[\"%s_test_yhat\" %i])\n",
        "    MSE_test = mean_squared_error(test_y, globals()[\"%s_test_yhat\" %i])\n",
        "    RMSE_test = np.sqrt(MSE_test)\n",
        "    MSLE_test = mean_squared_log_error(test_y, globals()[\"%s_test_yhat\" %i])\n",
        "    RMSLE_test = np.sqrt(mean_squared_log_error(test_y, globals()[\"%s_test_yhat\" %i]))\n",
        "    R2_test = r2_score(test_y, globals()[\"%s_test_yhat\" %i])\n",
        "    MAPE_test = np.mean(np.abs((globals()[\"%s_test_yhat\" %i] - test_y) / globals()[\"%s_test_yhat\" %i])) * 100\n",
        "    \n",
        "    print(\"\\t<Validation>\\t<Test>\")\n",
        "    print(\"MAE\\t%.10f\"%MAE_vail, \"\\t%.10f\"%MAE_test)\n",
        "    print(\"MSE\\t%.10f\"%MSE_vail, \"\\t%.10f\"%MSE_test)\n",
        "    print(\"RMSE\\t%.10f\"%RMSE_vail, \"\\t%.10f\"%RMSE_test)\n",
        "    print(\"MSLE\\t%.10f\"%MSLE_vail, \"\\t%.10f\"%MSLE_test)\n",
        "    print(\"RMSLE\\t%.10f\"%RMSLE_vail, \"\\t%.10f\"%RMSLE_test)\n",
        "    print(\"MAPE\\t%.10f\"%MAPE_vail, \"\\t%.10f\"%MAPE_test)\n",
        "    print(\"R2\\t%.10f\"%R2_vail, \"\\t%.10f\"%R2_test)\n",
        "    print(\"\\n\\n\")"
      ],
      "execution_count": null,
      "outputs": []
    }
  ]
}